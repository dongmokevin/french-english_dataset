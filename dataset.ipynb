{
 "cells": [
  {
   "cell_type": "markdown",
   "source": [
    "# An enhancement of the dataset Multi30k with 90 more sentences from Tatoeba dataset"
   ],
   "metadata": {
    "collapsed": false
   },
   "id": "f95a23ab766cb0"
  },
  {
   "cell_type": "markdown",
   "source": [
    "Multi30k-dataset\n",
    "@InProceedings{elliott-EtAl:2017:WMT,\n",
    "  author    = {Elliott, Desmond  and  Frank, Stella  and  Barrault, Lo\\\"{i}c  and  Bougares, Fethi  and  Specia, Lucia},\n",
    "  title     = {Findings of the Second Shared Task on Multimodal Machine Translation and Multilingual Image Description},\n",
    "  booktitle = {Proceedings of the Second Conference on Machine Translation, Volume 2: Shared Task Papers},\n",
    "  month     = {September},\n",
    "  year      = {2017},\n",
    "  address   = {Copenhagen, Denmark},\n",
    "  publisher = {Association for Computational Linguistics},\n",
    "  pages     = {215--233},\n",
    "  url       = {http://www.aclweb.org/anthology/W17-4718}\n",
    "}\n",
    "\n"
   ],
   "metadata": {
    "collapsed": false
   },
   "id": "fec0beafc313bab1"
  },
  {
   "cell_type": "markdown",
   "source": [
    "CC-BY 2.0 (France) Attribution: tatoeba.org"
   ],
   "metadata": {
    "collapsed": false
   },
   "id": "5a16078e7239f4d8"
  },
  {
   "cell_type": "code",
   "execution_count": 53,
   "outputs": [],
   "source": [
    "import random\n",
    "\n",
    "seed = 1234\n",
    "random.seed(seed)"
   ],
   "metadata": {
    "collapsed": false,
    "ExecuteTime": {
     "start_time": "2024-07-18T06:53:27.013902987Z"
    }
   },
   "id": "41ece55f38ef6544"
  },
  {
   "cell_type": "code",
   "execution_count": 54,
   "outputs": [],
   "source": [
    "# Reading the combined file\n",
    "def read_combined_file(file_name, limit=96000):\n",
    "    fr_sequence = []\n",
    "    en_sequence = []\n",
    "    with open(file_name, encoding='utf-8') as file:\n",
    "        for i, line in enumerate(file):\n",
    "            if i == limit:\n",
    "                break\n",
    "            pair = line.split('\\t')\n",
    "            fr_sequence.append(pair[1])\n",
    "            en_sequence.append(pair[0])\n",
    "    return fr_sequence, en_sequence "
   ],
   "metadata": {
    "collapsed": false,
    "ExecuteTime": {
     "end_time": "2024-07-18T06:53:27.073483213Z",
     "start_time": "2024-07-18T06:53:27.020448078Z"
    }
   },
   "id": "f71d224aa9a4514e"
  },
  {
   "cell_type": "code",
   "execution_count": 55,
   "outputs": [],
   "source": [
    "# Manually splitting the training, test and validation set\n",
    "data_size = 96000\n",
    "data_indices = list(range(data_size))\n",
    "fr_data, en_data = read_combined_file('data/fra.txt', limit=data_size)\n",
    "test_rows = 3000\n",
    "validation_rows = 3000\n",
    "test_indices = random.sample(data_indices, test_rows)\n",
    "validation_indices = random.sample([i for i in data_indices if i not in test_indices], validation_rows)\n",
    "train_indices = [x for x in data_indices if x not in test_indices and x not in validation_indices]\n",
    "\n",
    "train_fr_data = [fr_data[i] for i in train_indices]\n",
    "test_fr_data = [fr_data[i] for i in test_indices]\n",
    "validation_fr_data = [fr_data[i] for i in validation_indices]\n",
    "\n",
    "train_en_data = [en_data[i] for i in train_indices]\n",
    "test_en_data = [en_data[i] for i in test_indices]\n",
    "validation_en_data = [en_data[i] for i in validation_indices]"
   ],
   "metadata": {
    "collapsed": false,
    "ExecuteTime": {
     "end_time": "2024-07-18T06:53:30.630070335Z",
     "start_time": "2024-07-18T06:53:27.063106115Z"
    }
   },
   "id": "d3034051f27d2cfd"
  },
  {
   "cell_type": "code",
   "execution_count": 56,
   "outputs": [
    {
     "name": "stdout",
     "output_type": "stream",
     "text": [
      "['Deux jeunes hommes blancs sont dehors près de buissons.', 'Plusieurs hommes en casque font fonctionner un système de poulies géant.', 'Une petite fille grimpe dans une maisonnette en bois.', 'Un homme dans une chemise bleue se tient sur une échelle pour nettoyer une fenêtre.']\n",
      "['Un jeune homme participe à une course pendant que le sujet qui le filme sourit.', \"L'homme se gratte l'arrière du cou tout en cherchant un livre dans une librairie.\", 'Une personne portant des lunettes de protection et un chapeau fait de la luge.', \"Une fille avec une veste rose et des galoches à fleurs descend le long d'une colline en luge.\"]\n",
      "[\"Un groupe d'hommes chargent du coton dans un camion\", 'Un homme dormant dans une chambre verte sur un canapé.', \"Un garçon avec un casque est assis sur les épaules d'une femme.\", 'Deux hommes installant une tente de pêche sur glace bleue sur un lac gelé']\n"
     ]
    }
   ],
   "source": [
    "def load_and_extend_data(fr_file, en_file, /, fr_extension=[], en_extension=[]):\n",
    "    with open(fr_file, encoding='utf-8') as file:\n",
    "        fr_lines = file.read().splitlines()\n",
    "        fr_extension.extend(fr_lines)\n",
    "        print(fr_lines[:4])\n",
    "    with open(en_file, encoding='utf-8') as file:\n",
    "        en_lines = file.read().splitlines()\n",
    "        en_extension.extend(en_lines)\n",
    "    return [{\"fr\": fr, \"en\": en} for fr, en in zip(fr_extension, en_extension)]\n",
    "\n",
    "train_data = load_and_extend_data('data/train.fr', 'data/train.en', fr_extension=train_fr_data, en_extension=train_en_data)\n",
    "test_data = load_and_extend_data('data/test_2018_flickr.fr', 'data/test_2018_flickr.en', fr_extension=test_fr_data, en_extension=test_en_data)\n",
    "val_data = load_and_extend_data('data/val.fr', 'data/val.en', fr_extension=validation_fr_data, en_extension=validation_en_data)\n",
    "\n"
   ],
   "metadata": {
    "collapsed": false,
    "ExecuteTime": {
     "end_time": "2024-07-18T06:53:30.681584879Z",
     "start_time": "2024-07-18T06:53:30.640327151Z"
    }
   },
   "id": "52b7154cd7027285"
  },
  {
   "cell_type": "code",
   "execution_count": 57,
   "outputs": [],
   "source": [
    "from datasets import Dataset, DatasetDict"
   ],
   "metadata": {
    "collapsed": false,
    "ExecuteTime": {
     "end_time": "2024-07-18T06:53:30.687545150Z",
     "start_time": "2024-07-18T06:53:30.682473074Z"
    }
   },
   "id": "a280e7657ab268e3"
  },
  {
   "cell_type": "code",
   "execution_count": 63,
   "outputs": [
    {
     "data": {
      "text/plain": "Uploading the dataset shards:   0%|          | 0/1 [00:00<?, ?it/s]",
      "application/vnd.jupyter.widget-view+json": {
       "version_major": 2,
       "version_minor": 0,
       "model_id": "28c666a56ae145a791928943b597e6b2"
      }
     },
     "metadata": {},
     "output_type": "display_data"
    },
    {
     "data": {
      "text/plain": "Creating parquet from Arrow format:   0%|          | 0/119 [00:00<?, ?ba/s]",
      "application/vnd.jupyter.widget-view+json": {
       "version_major": 2,
       "version_minor": 0,
       "model_id": "98a5be944dde42099a7a116c94e24c00"
      }
     },
     "metadata": {},
     "output_type": "display_data"
    },
    {
     "data": {
      "text/plain": "Uploading the dataset shards:   0%|          | 0/1 [00:00<?, ?it/s]",
      "application/vnd.jupyter.widget-view+json": {
       "version_major": 2,
       "version_minor": 0,
       "model_id": "d2d5dfff13c4420b96c4e140b8ea87a6"
      }
     },
     "metadata": {},
     "output_type": "display_data"
    },
    {
     "data": {
      "text/plain": "Creating parquet from Arrow format:   0%|          | 0/5 [00:00<?, ?ba/s]",
      "application/vnd.jupyter.widget-view+json": {
       "version_major": 2,
       "version_minor": 0,
       "model_id": "f3d7f4752ac642d7a28567365df45d42"
      }
     },
     "metadata": {},
     "output_type": "display_data"
    },
    {
     "data": {
      "text/plain": "Uploading the dataset shards:   0%|          | 0/1 [00:00<?, ?it/s]",
      "application/vnd.jupyter.widget-view+json": {
       "version_major": 2,
       "version_minor": 0,
       "model_id": "26d5a03800264c588250989943bbf53e"
      }
     },
     "metadata": {},
     "output_type": "display_data"
    },
    {
     "data": {
      "text/plain": "Creating parquet from Arrow format:   0%|          | 0/5 [00:00<?, ?ba/s]",
      "application/vnd.jupyter.widget-view+json": {
       "version_major": 2,
       "version_minor": 0,
       "model_id": "864888e360fa4361b7db21c2f159bf6a"
      }
     },
     "metadata": {},
     "output_type": "display_data"
    },
    {
     "data": {
      "text/plain": "CommitInfo(commit_url='https://huggingface.co/datasets/kevindf/multi30k_plus90K_fr/commit/e968fc9f17b53f4982c03a3c7b257200ce02cd78', commit_message='Upload dataset', commit_description='', oid='e968fc9f17b53f4982c03a3c7b257200ce02cd78', pr_url=None, pr_revision=None, pr_num=None)"
     },
     "execution_count": 63,
     "metadata": {},
     "output_type": "execute_result"
    }
   ],
   "source": [
    "train_dataset = Dataset.from_dict({\"fr\": train_fr_data, \"en\": train_en_data})\n",
    "test_dataset = Dataset.from_dict({\"fr\": test_fr_data, \"en\": test_en_data})\n",
    "val_dataset = Dataset.from_dict({\"fr\": validation_fr_data, \"en\": validation_en_data})\n",
    "\n",
    "# Create DatasetDict\n",
    "dataset = DatasetDict({\n",
    "    \"train\": train_dataset,\n",
    "    \"test\": test_dataset,\n",
    "    \"validation\": val_dataset\n",
    "})\n",
    "\n",
    "\n",
    "dataset.description = \"\"\"\n",
    "## Multi30k + Tatoeba French-English Translation Dataset\n",
    "\n",
    "This dataset contains the Multi30k dataset available [here](https://github.com/multi30k/dataset), combined with additional 90 sentences from the Tatoeba French-English translation dataset, sourced from [Tatoeba.org](https://tatoeba.org/).\n",
    "\n",
    "### Dataset Information\n",
    "\n",
    "Each example consists of a French sentence (\"fr\") and its English translation (\"en\").\n",
    "\n",
    "### Data Splits\n",
    "\n",
    "The French-English dataset has 3 splits:\n",
    "\n",
    "| Dataset Split | Number of Instances |\n",
    "|---------------|---------------------|\n",
    "| Train         | 119,003             |\n",
    "| Validation    | 4,017               |\n",
    "| Test          | 4,074               |\n",
    "\n",
    "### Attribution\n",
    "\n",
    "CC-BY 2.0 (France) Attribution: [Tatoeba.org](https://tatoeba.org/) French-English dataset.\n",
    "\"\"\"\n",
    "\n",
    "dataset.citation = \"\"\"\n",
    "@InProceedings{elliott-EtAl:2017:WMT,\n",
    "  author    = {Elliott, Desmond  and  Frank, Stella  and  Barrault, Lo\\\"{i}c  and  Bougares, Fethi  and  Specia, Lucia},\n",
    "  title     = {Findings of the Second Shared Task on Multimodal Machine Translation and Multilingual Image Description},\n",
    "  booktitle = {Proceedings of the Second Conference on Machine Translation, Volume 2: Shared Task Papers},\n",
    "  month     = {September},\n",
    "  year      = {2017},\n",
    "  address   = {Copenhagen, Denmark},\n",
    "  publisher = {Association for Computational Linguistics},\n",
    "  pages     = {215--233},\n",
    "  url       = {http://www.aclweb.org/anthology/W17-4718}\n",
    "}\n",
    "\n",
    "CC-BY 2.0 (France) Attribution: [Tatoeba.org](https://tatoeba.org/) French-English dataset.\n",
    "\"\"\"\n",
    "dataset.push_to_hub(repo_id=\"multi30k_plus90K_fr\")"
   ],
   "metadata": {
    "collapsed": false,
    "ExecuteTime": {
     "end_time": "2024-07-18T07:06:58.300477389Z",
     "start_time": "2024-07-18T07:06:52.393073166Z"
    }
   },
   "id": "929a96bcdf0c1032"
  },
  {
   "cell_type": "code",
   "execution_count": null,
   "outputs": [],
   "source": [],
   "metadata": {
    "collapsed": false
   },
   "id": "b3f5db4079fd0763"
  }
 ],
 "metadata": {
  "kernelspec": {
   "display_name": "Python 3",
   "language": "python",
   "name": "python3"
  },
  "language_info": {
   "codemirror_mode": {
    "name": "ipython",
    "version": 2
   },
   "file_extension": ".py",
   "mimetype": "text/x-python",
   "name": "python",
   "nbconvert_exporter": "python",
   "pygments_lexer": "ipython2",
   "version": "2.7.6"
  }
 },
 "nbformat": 4,
 "nbformat_minor": 5
}
